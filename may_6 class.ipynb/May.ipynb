{
 "cells": [
  {
   "cell_type": "code",
   "execution_count": 2,
   "id": "1cb9095c",
   "metadata": {},
   "outputs": [
    {
     "name": "stdout",
     "output_type": "stream",
     "text": [
      "-10 is negative\n"
     ]
    }
   ],
   "source": [
    "num = -10\n",
    "test = num < 0\n",
    "if test:\n",
    "    print(num, 'is negative')"
   ]
  },
  {
   "cell_type": "code",
   "execution_count": 4,
   "id": "9057bab3",
   "metadata": {},
   "outputs": [
    {
     "name": "stdout",
     "output_type": "stream",
     "text": [
      "its not negative\n"
     ]
    }
   ],
   "source": [
    "num = 10\n",
    "if num < 0:\n",
    "    print('its negative')\n",
    "else:\n",
    "    print('its not negative')\n"
   ]
  },
  {
   "cell_type": "code",
   "execution_count": 8,
   "id": "1a822f2c",
   "metadata": {},
   "outputs": [
    {
     "name": "stdout",
     "output_type": "stream",
     "text": [
      "well done\n"
     ]
    }
   ],
   "source": [
    "savings = 100\n",
    "if savings <= 0:\n",
    "    print(\"sorry, no savings! Take some loans\")\n",
    "elif savings > 0 and savings < 500:\n",
    "        print ('well done')\n"
   ]
  },
  {
   "cell_type": "code",
   "execution_count": 18,
   "id": "8eaa3781",
   "metadata": {},
   "outputs": [],
   "source": [
    "grade = 85\n",
    "if grade >=90:\n",
    "    print('grade A, great work')\n",
    "if grade <80 >90:\n",
    "    print('grade b, good effort')"
   ]
  },
  {
   "cell_type": "code",
   "execution_count": 21,
   "id": "c999a557",
   "metadata": {},
   "outputs": [
    {
     "name": "stdout",
     "output_type": "stream",
     "text": [
      "Grade: C - Good effort, but there's room to improve.\n"
     ]
    }
   ],
   "source": [
    "score = input(\"Enter your score (0-100): \")\n",
    "\n",
    "try:\n",
    "    s = float(score)\n",
    "    if s >= 90: print(\"Grade: A - Excellent work! You're a top student!\")\n",
    "    elif s >= 80: print(\"Grade: B - Great job! Keep it up!\")\n",
    "    elif s >= 70: print(\"Grade: C - Good effort, but there's room to improve.\")\n",
    "    elif s >= 60: print(\"Grade: D - You're getting there, focus more.\")\n",
    "    elif s >= 0: print(\"Grade: F - You might need some extra help.\")\n",
    "    else: print(\"Score must be 0 or higher.\")\n",
    "except:\n",
    "    print(\"Invalid input. Please enter a number.\")\n"
   ]
  },
  {
   "cell_type": "code",
   "execution_count": 34,
   "id": "92289ad8",
   "metadata": {},
   "outputs": [
    {
     "name": "stdout",
     "output_type": "stream",
     "text": [
      "4.0\n"
     ]
    }
   ],
   "source": [
    "number1 =float (input(\"please input a number: \"))\n",
    "number2 = float (input(\"please enter your second number: \"))\n",
    "\n",
    "Operation = input(\"please choose your operation (+, -, /, *, %)\")\n",
    "\n",
    "match Operation:\n",
    "    case\"+\":\n",
    "        print(number1 + number2)\n",
    "\n",
    "match Operation:\n",
    "    case\"-\":\n",
    "        print(number1 - number2)\n"
   ]
  }
 ],
 "metadata": {
  "kernelspec": {
   "display_name": "Python 3",
   "language": "python",
   "name": "python3"
  },
  "language_info": {
   "codemirror_mode": {
    "name": "ipython",
    "version": 3
   },
   "file_extension": ".py",
   "mimetype": "text/x-python",
   "name": "python",
   "nbconvert_exporter": "python",
   "pygments_lexer": "ipython3",
   "version": "3.11.9"
  }
 },
 "nbformat": 4,
 "nbformat_minor": 5
}
