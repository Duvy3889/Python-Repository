{
 "cells": [
  {
   "cell_type": "code",
   "execution_count": 20,
   "id": "c5cad5f2",
   "metadata": {},
   "outputs": [
    {
     "name": "stdout",
     "output_type": "stream",
     "text": [
      "7\n"
     ]
    }
   ],
   "source": [
    "x=2\n",
    "y=5\n",
    "print(x+y)\n"
   ]
  },
  {
   "cell_type": "code",
   "execution_count": null,
   "id": "86f69ef5",
   "metadata": {},
   "outputs": [],
   "source": [
    "mask = (\n",
    "    titanic['Pclass'].isin([1, 2]) &\n",
    "    titanic['Age'].notnull() & (titanic['Age'] >= 18) &\n",
    "    (titanic['Sex'] == 'female') &\n",
    "    (titanic['Fare'] >= 10) & (titanic['Fare'] <= 50) &\n",
    "    (titanic['Embarked'] == 'S') &\n",
    "    (titanic['Survived'] == 1)\u000b)\n"
   ]
  },
  {
   "cell_type": "code",
   "execution_count": 21,
   "id": "a3254b7f",
   "metadata": {},
   "outputs": [
    {
     "name": "stdout",
     "output_type": "stream",
     "text": [
      "the square of 6 is 6\n"
     ]
    }
   ],
   "source": [
    "number=6\n",
    "square=number*number\n",
    "stmt=(f\"the square of {number} is {number}\")\n",
    "print (f\"the square of {number} is {number}\")\n",
    "\n"
   ]
  },
  {
   "cell_type": "code",
   "execution_count": 30,
   "id": "601c6d70",
   "metadata": {},
   "outputs": [
    {
     "name": "stdout",
     "output_type": "stream",
     "text": [
      "['Sunday', 'Monday', 'Tuesday', 'Wednesday', 'Thursday', 'Friday', 'Shabbos', 'Saturday']\n"
     ]
    }
   ],
   "source": [
    "days =[\"Sunday\", \"Monday\", \"Tuesday\", \"Wednesday\", \"Thursday\", \"Friday\", \"Saturday\"]\n",
    "days.pop\n",
    "days.insert(6, \"Shabbos\")\n",
    "print(days)\n",
    "\n",
    "\n",
    "\n"
   ]
  },
  {
   "cell_type": "code",
   "execution_count": 23,
   "id": "bc94a0f3",
   "metadata": {},
   "outputs": [
    {
     "name": "stdout",
     "output_type": "stream",
     "text": [
      "   PassengerId  Survived  Pclass  \\\n",
      "0            1       0.0       3   \n",
      "1            2       1.0       1   \n",
      "2            3       1.0       3   \n",
      "3            4       1.0       1   \n",
      "4            5       0.0       3   \n",
      "\n",
      "                                                Name     Sex   Age  SibSp  \\\n",
      "0                            Braund, Mr. Owen Harris    male  22.0      1   \n",
      "1  Cumings, Mrs. John Bradley (Florence Briggs Th...  female  38.0      1   \n",
      "2                             Heikkinen, Miss. Laina  female  26.0      0   \n",
      "3       Futrelle, Mrs. Jacques Heath (Lily May Peel)  female  35.0      1   \n",
      "4                           Allen, Mr. William Henry    male  35.0      0   \n",
      "\n",
      "   Parch            Ticket     Fare  ... Embarked WikiId  \\\n",
      "0      0         A/5 21171   7.2500  ...        S  691.0   \n",
      "1      0          PC 17599  71.2833  ...        C   90.0   \n",
      "2      0  STON/O2. 3101282   7.9250  ...        S  865.0   \n",
      "3      0            113803  53.1000  ...        S  127.0   \n",
      "4      0            373450   8.0500  ...        S  627.0   \n",
      "\n",
      "                                    Name_wiki Age_wiki  \\\n",
      "0                     Braund, Mr. Owen Harris     22.0   \n",
      "1  Cumings, Mrs. Florence Briggs (née Thayer)     35.0   \n",
      "2                       Heikkinen, Miss Laina     26.0   \n",
      "3          Futrelle, Mrs. Lily May (née Peel)     35.0   \n",
      "4                    Allen, Mr. William Henry     35.0   \n",
      "\n",
      "                             Hometown      Boarded  \\\n",
      "0          Bridgerule, Devon, England  Southampton   \n",
      "1              New York, New York, US    Cherbourg   \n",
      "2                  Jyväskylä, Finland  Southampton   \n",
      "3         Scituate, Massachusetts, US  Southampton   \n",
      "4  Birmingham, West Midlands, England  Southampton   \n",
      "\n",
      "                               Destination Lifeboat Body Class  \n",
      "0  Qu'Appelle Valley, Saskatchewan, Canada      NaN  NaN   3.0  \n",
      "1                   New York, New York, US        4  NaN   1.0  \n",
      "2                            New York City      14?  NaN   3.0  \n",
      "3              Scituate, Massachusetts, US        D  NaN   1.0  \n",
      "4                            New York City      NaN  NaN   3.0  \n",
      "\n",
      "[5 rows x 21 columns]\n"
     ]
    }
   ],
   "source": [
    "\n",
    "import pandas as pd\n",
    "import numpy as np\n",
    "\n",
    "\n",
    "df = pd.read_csv(\"titanic (1).csv\")\n",
    "\n",
    "\n",
    "print(df.head())\n"
   ]
  },
  {
   "cell_type": "code",
   "execution_count": 26,
   "id": "3b7600fe",
   "metadata": {},
   "outputs": [
    {
     "ename": "NameError",
     "evalue": "name 'titanic' is not defined",
     "output_type": "error",
     "traceback": [
      "\u001b[31m---------------------------------------------------------------------------\u001b[39m",
      "\u001b[31mNameError\u001b[39m                                 Traceback (most recent call last)",
      "\u001b[36mCell\u001b[39m\u001b[36m \u001b[39m\u001b[32mIn[26]\u001b[39m\u001b[32m, line 1\u001b[39m\n\u001b[32m----> \u001b[39m\u001b[32m1\u001b[39m \u001b[43mtitanic\u001b[49m(\u001b[32m1\u001b[39m).csv(\u001b[33m\"\u001b[39m\u001b[33mSurvived == 1\u001b[39m\u001b[33m\"\u001b[39m)\\\n\u001b[32m      2\u001b[39m \t  .groupby(\u001b[33m\"\u001b[39m\u001b[33mPclass\u001b[39m\u001b[33m\"\u001b[39m)[\u001b[33m\"\u001b[39m\u001b[33mFare\u001b[39m\u001b[33m\"\u001b[39m]\\\n\u001b[32m      3\u001b[39m \t  .mean()\\\n\u001b[32m      4\u001b[39m \t  .reset_index()\\\n\u001b[32m      5\u001b[39m         .rename(columns={\u001b[33m\"\u001b[39m\u001b[33mFare\u001b[39m\u001b[33m\"\u001b[39m:\u001b[33m\"\u001b[39m\u001b[33mAvgFare\u001b[39m\u001b[33m\"\u001b[39m})\n",
      "\u001b[31mNameError\u001b[39m: name 'titanic' is not defined"
     ]
    }
   ],
   "source": [
    "titanic(1).csv(\"Survived == 1\")\\\n",
    "\t  .groupby(\"Pclass\")[\"Fare\"]\\\n",
    "\t  .mean()\\\n",
    "\t  .reset_index()\\\n",
    "        .rename(columns={\"Fare\":\"AvgFare\"})\n"
   ]
  },
  {
   "cell_type": "code",
   "execution_count": 27,
   "id": "4cea70c3",
   "metadata": {},
   "outputs": [
    {
     "ename": "NameError",
     "evalue": "name 'titanic' is not defined",
     "output_type": "error",
     "traceback": [
      "\u001b[31m---------------------------------------------------------------------------\u001b[39m",
      "\u001b[31mNameError\u001b[39m                                 Traceback (most recent call last)",
      "\u001b[36mCell\u001b[39m\u001b[36m \u001b[39m\u001b[32mIn[27]\u001b[39m\u001b[32m, line 1\u001b[39m\n\u001b[32m----> \u001b[39m\u001b[32m1\u001b[39m \u001b[43mtitanic\u001b[49m.query(\u001b[33m\"\u001b[39m\u001b[33mSurvived == 1\u001b[39m\u001b[33m\"\u001b[39m)\\\n\u001b[32m      2\u001b[39m \t  .groupby(\u001b[33m\"\u001b[39m\u001b[33mPclass\u001b[39m\u001b[33m\"\u001b[39m)[\u001b[33m\"\u001b[39m\u001b[33mFare\u001b[39m\u001b[33m\"\u001b[39m]\\\n\u001b[32m      3\u001b[39m \t  .mean()\\\n\u001b[32m      4\u001b[39m \t  .reset_index()\\\n\u001b[32m      5\u001b[39m         .rename(columns={\u001b[33m\"\u001b[39m\u001b[33mFare\u001b[39m\u001b[33m\"\u001b[39m:\u001b[33m\"\u001b[39m\u001b[33mAvgFare\u001b[39m\u001b[33m\"\u001b[39m})\n",
      "\u001b[31mNameError\u001b[39m: name 'titanic' is not defined"
     ]
    }
   ],
   "source": [
    "titanic.query(\"Survived == 1\")\\\n",
    "\t  .groupby(\"Pclass\")[\"Fare\"]\\\n",
    "\t  .mean()\\\n",
    "\t  .reset_index()\\\n",
    "        .rename(columns={\"Fare\":\"AvgFare\"})\n",
    "\n"
   ]
  },
  {
   "cell_type": "code",
   "execution_count": 28,
   "id": "3e213130",
   "metadata": {},
   "outputs": [
    {
     "ename": "SyntaxError",
     "evalue": "invalid syntax (844863868.py, line 1)",
     "output_type": "error",
     "traceback": [
      "  \u001b[36mCell\u001b[39m\u001b[36m \u001b[39m\u001b[32mIn[28]\u001b[39m\u001b[32m, line 1\u001b[39m\n\u001b[31m    \u001b[39m\u001b[31mSELECT Pclass, AVG(Fare) AS AvgFare\u001b[39m\n           ^\n\u001b[31mSyntaxError\u001b[39m\u001b[31m:\u001b[39m invalid syntax\n"
     ]
    }
   ],
   "source": [
    "SELECT Pclass, AVG(Fare) AS AvgFare\n",
    "FROM titanic\n",
    "WHERE Survived = 1\n",
    "GROUP BY Pclass;\n"
   ]
  }
 ],
 "metadata": {
  "kernelspec": {
   "display_name": "Python 3",
   "language": "python",
   "name": "python3"
  },
  "language_info": {
   "codemirror_mode": {
    "name": "ipython",
    "version": 3
   },
   "file_extension": ".py",
   "mimetype": "text/x-python",
   "name": "python",
   "nbconvert_exporter": "python",
   "pygments_lexer": "ipython3",
   "version": "3.11.9"
  }
 },
 "nbformat": 4,
 "nbformat_minor": 5
}
